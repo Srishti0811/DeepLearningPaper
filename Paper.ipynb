{
  "nbformat": 4,
  "nbformat_minor": 0,
  "metadata": {
    "colab": {
      "provenance": [],
      "gpuType": "T4"
    },
    "kernelspec": {
      "name": "python3",
      "display_name": "Python 3"
    },
    "language_info": {
      "name": "python"
    },
    "accelerator": "GPU"
  },
  "cells": [
    {
      "cell_type": "code",
      "execution_count": null,
      "metadata": {
        "colab": {
          "base_uri": "https://localhost:8080/"
        },
        "id": "X1Lni4K8cU95",
        "outputId": "eb1ee0d9-c150-497e-8391-709902176ef2"
      },
      "outputs": [
        {
          "output_type": "stream",
          "name": "stdout",
          "text": [
            "Cloning into 'img2img-turbo'...\n",
            "remote: Enumerating objects: 196, done.\u001b[K\n",
            "remote: Counting objects: 100% (71/71), done.\u001b[K\n",
            "remote: Compressing objects: 100% (45/45), done.\u001b[K\n",
            "remote: Total 196 (delta 34), reused 48 (delta 26), pack-reused 125\u001b[K\n",
            "Receiving objects: 100% (196/196), 31.90 MiB | 29.14 MiB/s, done.\n",
            "Resolving deltas: 100% (83/83), done.\n"
          ]
        }
      ],
      "source": [
        "!git clone https://github.com/GaParmar/img2img-turbo.git"
      ]
    },
    {
      "cell_type": "code",
      "source": [
        "!pip install -r /content/img2img-turbo/requirements.txt"
      ],
      "metadata": {
        "colab": {
          "base_uri": "https://localhost:8080/"
        },
        "id": "JFfNZq0Fchru",
        "outputId": "d626f9b1-7afa-4522-9f8a-bafe630683bb"
      },
      "execution_count": null,
      "outputs": [
        {
          "output_type": "stream",
          "name": "stdout",
          "text": [
            "\u001b[33mWARNING: Ignoring invalid distribution -orch (/usr/local/lib/python3.10/dist-packages)\u001b[0m\u001b[33m\n",
            "\u001b[0mCollecting clip@ git+https://github.com/openai/CLIP.git (from -r /content/img2img-turbo/requirements.txt (line 1))\n",
            "  Cloning https://github.com/openai/CLIP.git to /tmp/pip-install-vnl71eg7/clip_dc599e71a0ad4cd7adc8e6e5ad44c4b0\n",
            "  Running command git clone --filter=blob:none --quiet https://github.com/openai/CLIP.git /tmp/pip-install-vnl71eg7/clip_dc599e71a0ad4cd7adc8e6e5ad44c4b0\n",
            "  Resolved https://github.com/openai/CLIP.git to commit a1d071733d7111c9c014f024669f959182114e33\n",
            "  Preparing metadata (setup.py) ... \u001b[?25l\u001b[?25hdone\n",
            "Requirement already satisfied: einops>=0.6.1 in /usr/local/lib/python3.10/dist-packages (from -r /content/img2img-turbo/requirements.txt (line 2)) (0.7.0)\n",
            "Requirement already satisfied: numpy>=1.24.4 in /usr/local/lib/python3.10/dist-packages (from -r /content/img2img-turbo/requirements.txt (line 3)) (1.25.2)\n",
            "Collecting open-clip-torch>=2.20.0 (from -r /content/img2img-turbo/requirements.txt (line 4))\n",
            "  Using cached open_clip_torch-2.24.0-py3-none-any.whl (1.5 MB)\n",
            "Requirement already satisfied: opencv-python==4.6.0.66 in /usr/local/lib/python3.10/dist-packages (from -r /content/img2img-turbo/requirements.txt (line 5)) (4.6.0.66)\n",
            "Requirement already satisfied: pillow>=9.5.0 in /usr/local/lib/python3.10/dist-packages (from -r /content/img2img-turbo/requirements.txt (line 6)) (10.3.0)\n",
            "Requirement already satisfied: scipy==1.11.1 in /usr/local/lib/python3.10/dist-packages (from -r /content/img2img-turbo/requirements.txt (line 7)) (1.11.1)\n",
            "Collecting timm>=0.9.2 (from -r /content/img2img-turbo/requirements.txt (line 8))\n",
            "  Using cached timm-0.9.16-py3-none-any.whl (2.2 MB)\n",
            "Requirement already satisfied: tokenizers in /usr/local/lib/python3.10/dist-packages (from -r /content/img2img-turbo/requirements.txt (line 9)) (0.15.2)\n",
            "Collecting torch>=2.0.1 (from -r /content/img2img-turbo/requirements.txt (line 10))\n",
            "  Downloading torch-2.2.2-cp310-cp310-manylinux1_x86_64.whl (755.5 MB)\n",
            "\u001b[2K     \u001b[90m━━━━━━━━━━━━━━━━━━━━━━━━━━━━━━━━━━━━━━━━\u001b[0m \u001b[32m755.5/755.5 MB\u001b[0m \u001b[31m2.1 MB/s\u001b[0m eta \u001b[36m0:00:00\u001b[0m\n",
            "\u001b[?25hRequirement already satisfied: torchaudio>=2.0.2 in /usr/local/lib/python3.10/dist-packages (from -r /content/img2img-turbo/requirements.txt (line 12)) (2.2.1+cu121)\n",
            "Collecting torchdata==0.6.1 (from -r /content/img2img-turbo/requirements.txt (line 13))\n",
            "  Using cached torchdata-0.6.1-cp310-cp310-manylinux_2_17_x86_64.manylinux2014_x86_64.whl (4.6 MB)\n",
            "Collecting torchmetrics>=1.0.1 (from -r /content/img2img-turbo/requirements.txt (line 14))\n",
            "  Using cached torchmetrics-1.3.2-py3-none-any.whl (841 kB)\n",
            "Requirement already satisfied: torchvision>=0.15.2 in /usr/local/lib/python3.10/dist-packages (from -r /content/img2img-turbo/requirements.txt (line 15)) (0.17.1+cu121)\n",
            "Requirement already satisfied: tqdm>=4.65.0 in /usr/local/lib/python3.10/dist-packages (from -r /content/img2img-turbo/requirements.txt (line 17)) (4.66.2)\n",
            "Requirement already satisfied: transformers==4.35.2 in /usr/local/lib/python3.10/dist-packages (from -r /content/img2img-turbo/requirements.txt (line 18)) (4.35.2)\n",
            "Requirement already satisfied: triton==2.0.0 in /usr/local/lib/python3.10/dist-packages (from -r /content/img2img-turbo/requirements.txt (line 19)) (2.0.0)\n",
            "Requirement already satisfied: urllib3<1.27,>=1.25.4 in /usr/local/lib/python3.10/dist-packages (from -r /content/img2img-turbo/requirements.txt (line 20)) (1.26.18)\n",
            "Collecting xformers>=0.0.20 (from -r /content/img2img-turbo/requirements.txt (line 21))\n",
            "  Using cached xformers-0.0.25.post1-cp310-cp310-manylinux2014_x86_64.whl (222.5 MB)\n",
            "Requirement already satisfied: streamlit-keyup==0.2.0 in /usr/local/lib/python3.10/dist-packages (from -r /content/img2img-turbo/requirements.txt (line 22)) (0.2.0)\n",
            "Collecting lpips (from -r /content/img2img-turbo/requirements.txt (line 23))\n",
            "  Using cached lpips-0.1.4-py3-none-any.whl (53 kB)\n",
            "Collecting clean-fid (from -r /content/img2img-turbo/requirements.txt (line 24))\n",
            "  Using cached clean_fid-0.1.35-py3-none-any.whl (26 kB)\n",
            "Collecting peft (from -r /content/img2img-turbo/requirements.txt (line 25))\n",
            "  Using cached peft-0.10.0-py3-none-any.whl (199 kB)\n",
            "Requirement already satisfied: dominate in /usr/local/lib/python3.10/dist-packages (from -r /content/img2img-turbo/requirements.txt (line 26)) (2.9.1)\n",
            "Requirement already satisfied: diffusers==0.25.1 in /usr/local/lib/python3.10/dist-packages (from -r /content/img2img-turbo/requirements.txt (line 27)) (0.25.1)\n",
            "Requirement already satisfied: gradio==3.43.1 in /usr/local/lib/python3.10/dist-packages (from -r /content/img2img-turbo/requirements.txt (line 28)) (3.43.1)\n",
            "Requirement already satisfied: requests in /usr/local/lib/python3.10/dist-packages (from torchdata==0.6.1->-r /content/img2img-turbo/requirements.txt (line 13)) (2.31.0)\n",
            "Collecting torch>=2.0.1 (from -r /content/img2img-turbo/requirements.txt (line 10))\n",
            "  Using cached torch-2.0.1-cp310-cp310-manylinux1_x86_64.whl (619.9 MB)\n",
            "Requirement already satisfied: filelock in /usr/local/lib/python3.10/dist-packages (from torch>=2.0.1->-r /content/img2img-turbo/requirements.txt (line 10)) (3.13.3)\n",
            "Requirement already satisfied: typing-extensions in /usr/local/lib/python3.10/dist-packages (from torch>=2.0.1->-r /content/img2img-turbo/requirements.txt (line 10)) (4.10.0)\n",
            "Requirement already satisfied: sympy in /usr/local/lib/python3.10/dist-packages (from torch>=2.0.1->-r /content/img2img-turbo/requirements.txt (line 10)) (1.12)\n",
            "Requirement already satisfied: networkx in /usr/local/lib/python3.10/dist-packages (from torch>=2.0.1->-r /content/img2img-turbo/requirements.txt (line 10)) (3.2.1)\n",
            "Requirement already satisfied: jinja2 in /usr/local/lib/python3.10/dist-packages (from torch>=2.0.1->-r /content/img2img-turbo/requirements.txt (line 10)) (3.1.3)\n",
            "Requirement already satisfied: nvidia-cuda-nvrtc-cu11==11.7.99 in /usr/local/lib/python3.10/dist-packages (from torch>=2.0.1->-r /content/img2img-turbo/requirements.txt (line 10)) (11.7.99)\n",
            "Requirement already satisfied: nvidia-cuda-runtime-cu11==11.7.99 in /usr/local/lib/python3.10/dist-packages (from torch>=2.0.1->-r /content/img2img-turbo/requirements.txt (line 10)) (11.7.99)\n",
            "Requirement already satisfied: nvidia-cuda-cupti-cu11==11.7.101 in /usr/local/lib/python3.10/dist-packages (from torch>=2.0.1->-r /content/img2img-turbo/requirements.txt (line 10)) (11.7.101)\n",
            "Requirement already satisfied: nvidia-cudnn-cu11==8.5.0.96 in /usr/local/lib/python3.10/dist-packages (from torch>=2.0.1->-r /content/img2img-turbo/requirements.txt (line 10)) (8.5.0.96)\n",
            "Requirement already satisfied: nvidia-cublas-cu11==11.10.3.66 in /usr/local/lib/python3.10/dist-packages (from torch>=2.0.1->-r /content/img2img-turbo/requirements.txt (line 10)) (11.10.3.66)\n",
            "Requirement already satisfied: nvidia-cufft-cu11==10.9.0.58 in /usr/local/lib/python3.10/dist-packages (from torch>=2.0.1->-r /content/img2img-turbo/requirements.txt (line 10)) (10.9.0.58)\n",
            "Requirement already satisfied: nvidia-curand-cu11==10.2.10.91 in /usr/local/lib/python3.10/dist-packages (from torch>=2.0.1->-r /content/img2img-turbo/requirements.txt (line 10)) (10.2.10.91)\n",
            "Requirement already satisfied: nvidia-cusolver-cu11==11.4.0.1 in /usr/local/lib/python3.10/dist-packages (from torch>=2.0.1->-r /content/img2img-turbo/requirements.txt (line 10)) (11.4.0.1)\n",
            "Requirement already satisfied: nvidia-cusparse-cu11==11.7.4.91 in /usr/local/lib/python3.10/dist-packages (from torch>=2.0.1->-r /content/img2img-turbo/requirements.txt (line 10)) (11.7.4.91)\n",
            "Requirement already satisfied: nvidia-nccl-cu11==2.14.3 in /usr/local/lib/python3.10/dist-packages (from torch>=2.0.1->-r /content/img2img-turbo/requirements.txt (line 10)) (2.14.3)\n",
            "Requirement already satisfied: nvidia-nvtx-cu11==11.7.91 in /usr/local/lib/python3.10/dist-packages (from torch>=2.0.1->-r /content/img2img-turbo/requirements.txt (line 10)) (11.7.91)\n",
            "Requirement already satisfied: huggingface-hub<1.0,>=0.16.4 in /usr/local/lib/python3.10/dist-packages (from transformers==4.35.2->-r /content/img2img-turbo/requirements.txt (line 18)) (0.20.3)\n",
            "Requirement already satisfied: packaging>=20.0 in /usr/local/lib/python3.10/dist-packages (from transformers==4.35.2->-r /content/img2img-turbo/requirements.txt (line 18)) (24.0)\n",
            "Requirement already satisfied: pyyaml>=5.1 in /usr/local/lib/python3.10/dist-packages (from transformers==4.35.2->-r /content/img2img-turbo/requirements.txt (line 18)) (6.0.1)\n",
            "Requirement already satisfied: regex!=2019.12.17 in /usr/local/lib/python3.10/dist-packages (from transformers==4.35.2->-r /content/img2img-turbo/requirements.txt (line 18)) (2023.12.25)\n",
            "Requirement already satisfied: safetensors>=0.3.1 in /usr/local/lib/python3.10/dist-packages (from transformers==4.35.2->-r /content/img2img-turbo/requirements.txt (line 18)) (0.4.2)\n",
            "Requirement already satisfied: cmake in /usr/local/lib/python3.10/dist-packages (from triton==2.0.0->-r /content/img2img-turbo/requirements.txt (line 19)) (3.27.9)\n",
            "Requirement already satisfied: lit in /usr/local/lib/python3.10/dist-packages (from triton==2.0.0->-r /content/img2img-turbo/requirements.txt (line 19)) (18.1.2)\n",
            "Requirement already satisfied: streamlit>=1.2 in /usr/local/lib/python3.10/dist-packages (from streamlit-keyup==0.2.0->-r /content/img2img-turbo/requirements.txt (line 22)) (1.33.0)\n",
            "Requirement already satisfied: importlib-metadata in /usr/local/lib/python3.10/dist-packages (from diffusers==0.25.1->-r /content/img2img-turbo/requirements.txt (line 27)) (7.1.0)\n",
            "Requirement already satisfied: aiofiles<24.0,>=22.0 in /usr/local/lib/python3.10/dist-packages (from gradio==3.43.1->-r /content/img2img-turbo/requirements.txt (line 28)) (23.2.1)\n",
            "Requirement already satisfied: altair<6.0,>=4.2.0 in /usr/local/lib/python3.10/dist-packages (from gradio==3.43.1->-r /content/img2img-turbo/requirements.txt (line 28)) (4.2.2)\n",
            "Requirement already satisfied: fastapi in /usr/local/lib/python3.10/dist-packages (from gradio==3.43.1->-r /content/img2img-turbo/requirements.txt (line 28)) (0.110.1)\n",
            "Requirement already satisfied: ffmpy in /usr/local/lib/python3.10/dist-packages (from gradio==3.43.1->-r /content/img2img-turbo/requirements.txt (line 28)) (0.3.2)\n",
            "Requirement already satisfied: gradio-client==0.5.0 in /usr/local/lib/python3.10/dist-packages (from gradio==3.43.1->-r /content/img2img-turbo/requirements.txt (line 28)) (0.5.0)\n",
            "Requirement already satisfied: httpx in /usr/local/lib/python3.10/dist-packages (from gradio==3.43.1->-r /content/img2img-turbo/requirements.txt (line 28)) (0.27.0)\n",
            "Requirement already satisfied: importlib-resources<7.0,>=1.3 in /usr/local/lib/python3.10/dist-packages (from gradio==3.43.1->-r /content/img2img-turbo/requirements.txt (line 28)) (6.4.0)\n",
            "Requirement already satisfied: markupsafe~=2.0 in /usr/local/lib/python3.10/dist-packages (from gradio==3.43.1->-r /content/img2img-turbo/requirements.txt (line 28)) (2.1.5)\n",
            "Requirement already satisfied: matplotlib~=3.0 in /usr/local/lib/python3.10/dist-packages (from gradio==3.43.1->-r /content/img2img-turbo/requirements.txt (line 28)) (3.7.1)\n",
            "Requirement already satisfied: orjson~=3.0 in /usr/local/lib/python3.10/dist-packages (from gradio==3.43.1->-r /content/img2img-turbo/requirements.txt (line 28)) (3.10.0)\n",
            "Requirement already satisfied: pandas<3.0,>=1.0 in /usr/local/lib/python3.10/dist-packages (from gradio==3.43.1->-r /content/img2img-turbo/requirements.txt (line 28)) (2.0.3)\n",
            "Requirement already satisfied: pydantic!=1.8,!=1.8.1,!=2.0.0,!=2.0.1,<3.0.0,>=1.7.4 in /usr/local/lib/python3.10/dist-packages (from gradio==3.43.1->-r /content/img2img-turbo/requirements.txt (line 28)) (2.6.4)\n",
            "Requirement already satisfied: pydub in /usr/local/lib/python3.10/dist-packages (from gradio==3.43.1->-r /content/img2img-turbo/requirements.txt (line 28)) (0.25.1)\n",
            "Requirement already satisfied: python-multipart in /usr/local/lib/python3.10/dist-packages (from gradio==3.43.1->-r /content/img2img-turbo/requirements.txt (line 28)) (0.0.9)\n",
            "Requirement already satisfied: semantic-version~=2.0 in /usr/local/lib/python3.10/dist-packages (from gradio==3.43.1->-r /content/img2img-turbo/requirements.txt (line 28)) (2.10.0)\n",
            "Requirement already satisfied: uvicorn>=0.14.0 in /usr/local/lib/python3.10/dist-packages (from gradio==3.43.1->-r /content/img2img-turbo/requirements.txt (line 28)) (0.29.0)\n",
            "Requirement already satisfied: websockets<12.0,>=10.0 in /usr/local/lib/python3.10/dist-packages (from gradio==3.43.1->-r /content/img2img-turbo/requirements.txt (line 28)) (11.0.3)\n",
            "Requirement already satisfied: fsspec in /usr/local/lib/python3.10/dist-packages (from gradio-client==0.5.0->gradio==3.43.1->-r /content/img2img-turbo/requirements.txt (line 28)) (2023.6.0)\n",
            "Requirement already satisfied: setuptools in /usr/local/lib/python3.10/dist-packages (from nvidia-cublas-cu11==11.10.3.66->torch>=2.0.1->-r /content/img2img-turbo/requirements.txt (line 10)) (67.7.2)\n",
            "Requirement already satisfied: wheel in /usr/local/lib/python3.10/dist-packages (from nvidia-cublas-cu11==11.10.3.66->torch>=2.0.1->-r /content/img2img-turbo/requirements.txt (line 10)) (0.43.0)\n",
            "Requirement already satisfied: ftfy in /usr/local/lib/python3.10/dist-packages (from clip@ git+https://github.com/openai/CLIP.git->-r /content/img2img-turbo/requirements.txt (line 1)) (6.2.0)\n",
            "Requirement already satisfied: sentencepiece in /usr/local/lib/python3.10/dist-packages (from open-clip-torch>=2.20.0->-r /content/img2img-turbo/requirements.txt (line 4)) (0.1.99)\n",
            "Requirement already satisfied: protobuf in /usr/local/lib/python3.10/dist-packages (from open-clip-torch>=2.20.0->-r /content/img2img-turbo/requirements.txt (line 4)) (3.20.3)\n",
            "INFO: pip is looking at multiple versions of torchaudio to determine which version is compatible with other requirements. This could take a while.\n",
            "Collecting torchaudio>=2.0.2 (from -r /content/img2img-turbo/requirements.txt (line 12))\n",
            "  Using cached torchaudio-2.2.2-cp310-cp310-manylinux1_x86_64.whl (3.3 MB)\n",
            "  Using cached torchaudio-2.2.1-cp310-cp310-manylinux1_x86_64.whl (3.3 MB)\n",
            "  Using cached torchaudio-2.2.0-cp310-cp310-manylinux1_x86_64.whl (3.3 MB)\n",
            "  Using cached torchaudio-2.1.2-cp310-cp310-manylinux1_x86_64.whl (3.3 MB)\n",
            "  Using cached torchaudio-2.1.1-cp310-cp310-manylinux1_x86_64.whl (3.3 MB)\n",
            "  Using cached torchaudio-2.1.0-cp310-cp310-manylinux1_x86_64.whl (3.3 MB)\n",
            "  Using cached torchaudio-2.0.2-cp310-cp310-manylinux1_x86_64.whl (4.4 MB)\n",
            "Requirement already satisfied: lightning-utilities>=0.8.0 in /usr/local/lib/python3.10/dist-packages (from torchmetrics>=1.0.1->-r /content/img2img-turbo/requirements.txt (line 14)) (0.11.2)\n",
            "INFO: pip is looking at multiple versions of torchvision to determine which version is compatible with other requirements. This could take a while.\n",
            "Collecting torchvision>=0.15.2 (from -r /content/img2img-turbo/requirements.txt (line 15))\n",
            "  Using cached torchvision-0.17.2-cp310-cp310-manylinux1_x86_64.whl (6.9 MB)\n",
            "  Using cached torchvision-0.17.1-cp310-cp310-manylinux1_x86_64.whl (6.9 MB)\n",
            "  Using cached torchvision-0.17.0-cp310-cp310-manylinux1_x86_64.whl (6.9 MB)\n",
            "  Using cached torchvision-0.16.2-cp310-cp310-manylinux1_x86_64.whl (6.8 MB)\n",
            "  Using cached torchvision-0.16.1-cp310-cp310-manylinux1_x86_64.whl (6.8 MB)\n",
            "  Using cached torchvision-0.16.0-cp310-cp310-manylinux1_x86_64.whl (6.9 MB)\n",
            "  Using cached torchvision-0.15.2-cp310-cp310-manylinux1_x86_64.whl (6.0 MB)\n",
            "INFO: pip is looking at multiple versions of xformers to determine which version is compatible with other requirements. This could take a while.\n",
            "Collecting xformers>=0.0.20 (from -r /content/img2img-turbo/requirements.txt (line 21))\n",
            "  Using cached xformers-0.0.25-cp310-cp310-manylinux2014_x86_64.whl (222.5 MB)\n",
            "  Using cached xformers-0.0.24-cp310-cp310-manylinux2014_x86_64.whl (218.2 MB)\n",
            "  Using cached xformers-0.0.23.post1-cp310-cp310-manylinux2014_x86_64.whl (213.0 MB)\n",
            "  Using cached xformers-0.0.23-cp310-cp310-manylinux2014_x86_64.whl (213.0 MB)\n",
            "  Using cached xformers-0.0.22.post7-cp310-cp310-manylinux2014_x86_64.whl (211.8 MB)\n",
            "  Using cached xformers-0.0.22-cp310-cp310-manylinux2014_x86_64.whl (211.6 MB)\n",
            "Requirement already satisfied: psutil in /usr/local/lib/python3.10/dist-packages (from peft->-r /content/img2img-turbo/requirements.txt (line 25)) (5.9.5)\n",
            "Collecting accelerate>=0.21.0 (from peft->-r /content/img2img-turbo/requirements.txt (line 25))\n",
            "  Using cached accelerate-0.29.2-py3-none-any.whl (297 kB)\n",
            "Requirement already satisfied: entrypoints in /usr/local/lib/python3.10/dist-packages (from altair<6.0,>=4.2.0->gradio==3.43.1->-r /content/img2img-turbo/requirements.txt (line 28)) (0.4)\n",
            "Requirement already satisfied: jsonschema>=3.0 in /usr/local/lib/python3.10/dist-packages (from altair<6.0,>=4.2.0->gradio==3.43.1->-r /content/img2img-turbo/requirements.txt (line 28)) (4.19.2)\n",
            "Requirement already satisfied: toolz in /usr/local/lib/python3.10/dist-packages (from altair<6.0,>=4.2.0->gradio==3.43.1->-r /content/img2img-turbo/requirements.txt (line 28)) (0.12.1)\n",
            "Requirement already satisfied: contourpy>=1.0.1 in /usr/local/lib/python3.10/dist-packages (from matplotlib~=3.0->gradio==3.43.1->-r /content/img2img-turbo/requirements.txt (line 28)) (1.2.1)\n",
            "Requirement already satisfied: cycler>=0.10 in /usr/local/lib/python3.10/dist-packages (from matplotlib~=3.0->gradio==3.43.1->-r /content/img2img-turbo/requirements.txt (line 28)) (0.12.1)\n",
            "Requirement already satisfied: fonttools>=4.22.0 in /usr/local/lib/python3.10/dist-packages (from matplotlib~=3.0->gradio==3.43.1->-r /content/img2img-turbo/requirements.txt (line 28)) (4.50.0)\n",
            "Requirement already satisfied: kiwisolver>=1.0.1 in /usr/local/lib/python3.10/dist-packages (from matplotlib~=3.0->gradio==3.43.1->-r /content/img2img-turbo/requirements.txt (line 28)) (1.4.5)\n",
            "Requirement already satisfied: pyparsing>=2.3.1 in /usr/local/lib/python3.10/dist-packages (from matplotlib~=3.0->gradio==3.43.1->-r /content/img2img-turbo/requirements.txt (line 28)) (3.1.2)\n",
            "Requirement already satisfied: python-dateutil>=2.7 in /usr/local/lib/python3.10/dist-packages (from matplotlib~=3.0->gradio==3.43.1->-r /content/img2img-turbo/requirements.txt (line 28)) (2.8.2)\n",
            "Requirement already satisfied: pytz>=2020.1 in /usr/local/lib/python3.10/dist-packages (from pandas<3.0,>=1.0->gradio==3.43.1->-r /content/img2img-turbo/requirements.txt (line 28)) (2023.4)\n",
            "Requirement already satisfied: tzdata>=2022.1 in /usr/local/lib/python3.10/dist-packages (from pandas<3.0,>=1.0->gradio==3.43.1->-r /content/img2img-turbo/requirements.txt (line 28)) (2024.1)\n",
            "Requirement already satisfied: annotated-types>=0.4.0 in /usr/local/lib/python3.10/dist-packages (from pydantic!=1.8,!=1.8.1,!=2.0.0,!=2.0.1,<3.0.0,>=1.7.4->gradio==3.43.1->-r /content/img2img-turbo/requirements.txt (line 28)) (0.6.0)\n",
            "Requirement already satisfied: pydantic-core==2.16.3 in /usr/local/lib/python3.10/dist-packages (from pydantic!=1.8,!=1.8.1,!=2.0.0,!=2.0.1,<3.0.0,>=1.7.4->gradio==3.43.1->-r /content/img2img-turbo/requirements.txt (line 28)) (2.16.3)\n",
            "Requirement already satisfied: charset-normalizer<4,>=2 in /usr/local/lib/python3.10/dist-packages (from requests->torchdata==0.6.1->-r /content/img2img-turbo/requirements.txt (line 13)) (3.3.2)\n",
            "Requirement already satisfied: idna<4,>=2.5 in /usr/local/lib/python3.10/dist-packages (from requests->torchdata==0.6.1->-r /content/img2img-turbo/requirements.txt (line 13)) (3.6)\n",
            "Requirement already satisfied: certifi>=2017.4.17 in /usr/local/lib/python3.10/dist-packages (from requests->torchdata==0.6.1->-r /content/img2img-turbo/requirements.txt (line 13)) (2024.2.2)\n",
            "Requirement already satisfied: blinker<2,>=1.0.0 in /usr/lib/python3/dist-packages (from streamlit>=1.2->streamlit-keyup==0.2.0->-r /content/img2img-turbo/requirements.txt (line 22)) (1.4)\n",
            "Requirement already satisfied: cachetools<6,>=4.0 in /usr/local/lib/python3.10/dist-packages (from streamlit>=1.2->streamlit-keyup==0.2.0->-r /content/img2img-turbo/requirements.txt (line 22)) (5.3.3)\n",
            "Requirement already satisfied: click<9,>=7.0 in /usr/local/lib/python3.10/dist-packages (from streamlit>=1.2->streamlit-keyup==0.2.0->-r /content/img2img-turbo/requirements.txt (line 22)) (8.1.7)\n",
            "Requirement already satisfied: pyarrow>=7.0 in /usr/local/lib/python3.10/dist-packages (from streamlit>=1.2->streamlit-keyup==0.2.0->-r /content/img2img-turbo/requirements.txt (line 22)) (14.0.2)\n",
            "Requirement already satisfied: rich<14,>=10.14.0 in /usr/local/lib/python3.10/dist-packages (from streamlit>=1.2->streamlit-keyup==0.2.0->-r /content/img2img-turbo/requirements.txt (line 22)) (13.7.1)\n",
            "Requirement already satisfied: tenacity<9,>=8.1.0 in /usr/local/lib/python3.10/dist-packages (from streamlit>=1.2->streamlit-keyup==0.2.0->-r /content/img2img-turbo/requirements.txt (line 22)) (8.2.3)\n",
            "Requirement already satisfied: toml<2,>=0.10.1 in /usr/local/lib/python3.10/dist-packages (from streamlit>=1.2->streamlit-keyup==0.2.0->-r /content/img2img-turbo/requirements.txt (line 22)) (0.10.2)\n",
            "Requirement already satisfied: gitpython!=3.1.19,<4,>=3.0.7 in /usr/local/lib/python3.10/dist-packages (from streamlit>=1.2->streamlit-keyup==0.2.0->-r /content/img2img-turbo/requirements.txt (line 22)) (3.1.43)\n",
            "Requirement already satisfied: pydeck<1,>=0.8.0b4 in /usr/local/lib/python3.10/dist-packages (from streamlit>=1.2->streamlit-keyup==0.2.0->-r /content/img2img-turbo/requirements.txt (line 22)) (0.8.1b0)\n",
            "Requirement already satisfied: tornado<7,>=6.0.3 in /usr/local/lib/python3.10/dist-packages (from streamlit>=1.2->streamlit-keyup==0.2.0->-r /content/img2img-turbo/requirements.txt (line 22)) (6.3.3)\n",
            "Requirement already satisfied: watchdog>=2.1.5 in /usr/local/lib/python3.10/dist-packages (from streamlit>=1.2->streamlit-keyup==0.2.0->-r /content/img2img-turbo/requirements.txt (line 22)) (4.0.0)\n",
            "Requirement already satisfied: h11>=0.8 in /usr/local/lib/python3.10/dist-packages (from uvicorn>=0.14.0->gradio==3.43.1->-r /content/img2img-turbo/requirements.txt (line 28)) (0.14.0)\n",
            "Requirement already satisfied: starlette<0.38.0,>=0.37.2 in /usr/local/lib/python3.10/dist-packages (from fastapi->gradio==3.43.1->-r /content/img2img-turbo/requirements.txt (line 28)) (0.37.2)\n",
            "Requirement already satisfied: wcwidth<0.3.0,>=0.2.12 in /usr/local/lib/python3.10/dist-packages (from ftfy->clip@ git+https://github.com/openai/CLIP.git->-r /content/img2img-turbo/requirements.txt (line 1)) (0.2.13)\n",
            "Requirement already satisfied: anyio in /usr/local/lib/python3.10/dist-packages (from httpx->gradio==3.43.1->-r /content/img2img-turbo/requirements.txt (line 28)) (3.7.1)\n",
            "Requirement already satisfied: httpcore==1.* in /usr/local/lib/python3.10/dist-packages (from httpx->gradio==3.43.1->-r /content/img2img-turbo/requirements.txt (line 28)) (1.0.5)\n",
            "Requirement already satisfied: sniffio in /usr/local/lib/python3.10/dist-packages (from httpx->gradio==3.43.1->-r /content/img2img-turbo/requirements.txt (line 28)) (1.3.1)\n",
            "Requirement already satisfied: zipp>=0.5 in /usr/local/lib/python3.10/dist-packages (from importlib-metadata->diffusers==0.25.1->-r /content/img2img-turbo/requirements.txt (line 27)) (3.18.1)\n",
            "Requirement already satisfied: mpmath>=0.19 in /usr/local/lib/python3.10/dist-packages (from sympy->torch>=2.0.1->-r /content/img2img-turbo/requirements.txt (line 10)) (1.3.0)\n",
            "Requirement already satisfied: gitdb<5,>=4.0.1 in /usr/local/lib/python3.10/dist-packages (from gitpython!=3.1.19,<4,>=3.0.7->streamlit>=1.2->streamlit-keyup==0.2.0->-r /content/img2img-turbo/requirements.txt (line 22)) (4.0.11)\n",
            "Requirement already satisfied: attrs>=22.2.0 in /usr/local/lib/python3.10/dist-packages (from jsonschema>=3.0->altair<6.0,>=4.2.0->gradio==3.43.1->-r /content/img2img-turbo/requirements.txt (line 28)) (23.2.0)\n",
            "Requirement already satisfied: jsonschema-specifications>=2023.03.6 in /usr/local/lib/python3.10/dist-packages (from jsonschema>=3.0->altair<6.0,>=4.2.0->gradio==3.43.1->-r /content/img2img-turbo/requirements.txt (line 28)) (2023.12.1)\n",
            "Requirement already satisfied: referencing>=0.28.4 in /usr/local/lib/python3.10/dist-packages (from jsonschema>=3.0->altair<6.0,>=4.2.0->gradio==3.43.1->-r /content/img2img-turbo/requirements.txt (line 28)) (0.34.0)\n",
            "Requirement already satisfied: rpds-py>=0.7.1 in /usr/local/lib/python3.10/dist-packages (from jsonschema>=3.0->altair<6.0,>=4.2.0->gradio==3.43.1->-r /content/img2img-turbo/requirements.txt (line 28)) (0.18.0)\n",
            "Requirement already satisfied: six>=1.5 in /usr/local/lib/python3.10/dist-packages (from python-dateutil>=2.7->matplotlib~=3.0->gradio==3.43.1->-r /content/img2img-turbo/requirements.txt (line 28)) (1.16.0)\n",
            "Requirement already satisfied: markdown-it-py>=2.2.0 in /usr/local/lib/python3.10/dist-packages (from rich<14,>=10.14.0->streamlit>=1.2->streamlit-keyup==0.2.0->-r /content/img2img-turbo/requirements.txt (line 22)) (3.0.0)\n",
            "Requirement already satisfied: pygments<3.0.0,>=2.13.0 in /usr/local/lib/python3.10/dist-packages (from rich<14,>=10.14.0->streamlit>=1.2->streamlit-keyup==0.2.0->-r /content/img2img-turbo/requirements.txt (line 22)) (2.16.1)\n",
            "Requirement already satisfied: exceptiongroup in /usr/local/lib/python3.10/dist-packages (from anyio->httpx->gradio==3.43.1->-r /content/img2img-turbo/requirements.txt (line 28)) (1.2.0)\n",
            "Requirement already satisfied: smmap<6,>=3.0.1 in /usr/local/lib/python3.10/dist-packages (from gitdb<5,>=4.0.1->gitpython!=3.1.19,<4,>=3.0.7->streamlit>=1.2->streamlit-keyup==0.2.0->-r /content/img2img-turbo/requirements.txt (line 22)) (5.0.1)\n",
            "Requirement already satisfied: mdurl~=0.1 in /usr/local/lib/python3.10/dist-packages (from markdown-it-py>=2.2.0->rich<14,>=10.14.0->streamlit>=1.2->streamlit-keyup==0.2.0->-r /content/img2img-turbo/requirements.txt (line 22)) (0.1.2)\n",
            "Building wheels for collected packages: clip\n",
            "  Building wheel for clip (setup.py) ... \u001b[?25l\u001b[?25hdone\n",
            "  Created wheel for clip: filename=clip-1.0-py3-none-any.whl size=1369499 sha256=1355803493c677265cfd0a67b1b68f2a3d531881b4cd141c158f0d9011c2c3e5\n",
            "  Stored in directory: /tmp/pip-ephem-wheel-cache-kkn7trse/wheels/da/2b/4c/d6691fa9597aac8bb85d2ac13b112deb897d5b50f5ad9a37e4\n",
            "Successfully built clip\n",
            "\u001b[33mWARNING: Ignoring invalid distribution -orch (/usr/local/lib/python3.10/dist-packages)\u001b[0m\u001b[33m\n",
            "\u001b[0mInstalling collected packages: torch, torchvision, timm, accelerate, xformers, torchmetrics, torchdata, torchaudio, peft, open-clip-torch, lpips, clip, clean-fid\n",
            "  Attempting uninstall: torchvision\n",
            "    Found existing installation: torchvision 0.17.1+cu121\n",
            "    Uninstalling torchvision-0.17.1+cu121:\n",
            "      Successfully uninstalled torchvision-0.17.1+cu121\n",
            "  Attempting uninstall: torchdata\n",
            "    Found existing installation: torchdata 0.7.1\n",
            "    Uninstalling torchdata-0.7.1:\n",
            "      Successfully uninstalled torchdata-0.7.1\n",
            "  Attempting uninstall: torchaudio\n",
            "    Found existing installation: torchaudio 2.2.1+cu121\n",
            "    Uninstalling torchaudio-2.2.1+cu121:\n",
            "      Successfully uninstalled torchaudio-2.2.1+cu121\n",
            "\u001b[31mERROR: pip's dependency resolver does not currently take into account all the packages that are installed. This behaviour is the source of the following dependency conflicts.\n",
            "torchtext 0.17.1 requires torch==2.2.1, but you have torch 2.0.1 which is incompatible.\n",
            "torchtext 0.17.1 requires torchdata==0.7.1, but you have torchdata 0.6.1 which is incompatible.\u001b[0m\u001b[31m\n",
            "\u001b[0mSuccessfully installed accelerate-0.29.2 clean-fid-0.1.35 clip-1.0 lpips-0.1.4 open-clip-torch-2.24.0 peft-0.10.0 timm-0.9.16 torch-2.0.1 torchaudio-2.0.2 torchdata-0.6.1 torchmetrics-1.3.2 torchvision-0.15.2 xformers-0.0.22\n"
          ]
        }
      ]
    },
    {
      "cell_type": "code",
      "source": [
        "!python /content/img2img-turbo/src/inference_paired.py --model_name \"edge_to_image\" \\\n",
        "    --input_image \"img2img-turbo/assets/examples/bird.png\" \\\n",
        "    --prompt \"a blue bird\" \\\n",
        "    --output_dir \"img2img-turbo/outputs\""
      ],
      "metadata": {
        "colab": {
          "base_uri": "https://localhost:8080/"
        },
        "id": "DAfMaQhufCHK",
        "outputId": "66e6d7b1-56d4-4a80-f635-77c65e31596f"
      },
      "execution_count": null,
      "outputs": [
        {
          "output_type": "stream",
          "name": "stdout",
          "text": [
            "Traceback (most recent call last):\n",
            "  File \"/content/img2img-turbo/src/inference_paired.py\", line 5, in <module>\n",
            "    import torch\n",
            "  File \"/usr/local/lib/python3.10/dist-packages/torch/__init__.py\", line 237, in <module>\n",
            "    from torch._C import *  # noqa: F403\n",
            "ImportError: /usr/local/lib/python3.10/dist-packages/torch/lib/libtorch_cuda.so: undefined symbol: ncclCommRegister\n"
          ]
        }
      ]
    },
    {
      "cell_type": "code",
      "source": [
        "!python img2img-turbo/src/inference_paired.py --model_name \"sketch_to_image_stochastic\" \\\n",
        "--input_image \"img2img-turbo/assets/examples/sketch_input.png\" --gamma 0.4 \\\n",
        "--prompt \"ethereal fantasy concept art of an asteroid. magnificent, celestial, ethereal, painterly, epic, majestic, magical, fantasy art, cover art, dreamy\" \\\n",
        "--output_dir \"outputs\""
      ],
      "metadata": {
        "colab": {
          "base_uri": "https://localhost:8080/"
        },
        "id": "hBX5lLXDktKh",
        "outputId": "830d2df7-7f24-4186-aee2-a1bb2741f2f5"
      },
      "execution_count": null,
      "outputs": [
        {
          "output_type": "stream",
          "name": "stdout",
          "text": [
            "Downloading checkpoint to checkpoints/sketch_to_image_stochastic_lora.pkl\n",
            "100% 525M/525M [02:35<00:00, 3.37MiB/s]\n",
            "Downloaded successfully to checkpoints/sketch_to_image_stochastic_lora.pkl\n"
          ]
        }
      ]
    },
    {
      "cell_type": "code",
      "source": [
        "!python img2img-turbo/src/inference_unpaired.py --model \"day_to_night\" \\\n",
        "    --input_image \"img2img-turbo/assets/examples/day2night_input.png\" --output_dir \"outputs\""
      ],
      "metadata": {
        "colab": {
          "base_uri": "https://localhost:8080/"
        },
        "id": "jLlvew_ck_2E",
        "outputId": "5a1e6100-8930-4d1d-9bda-760dc2da8d23"
      },
      "execution_count": null,
      "outputs": [
        {
          "output_type": "stream",
          "name": "stdout",
          "text": [
            "Traceback (most recent call last):\n",
            "  File \"/content/img2img-turbo/src/inference_unpaired.py\", line 6, in <module>\n",
            "    from cyclegan_turbo import CycleGAN_Turbo\n",
            "  File \"/content/img2img-turbo/src/cyclegan_turbo.py\", line 7, in <module>\n",
            "    from diffusers import AutoencoderKL, UNet2DConditionModel\n",
            "ModuleNotFoundError: No module named 'diffusers'\n"
          ]
        }
      ]
    },
    {
      "cell_type": "code",
      "source": [
        "!python img2img-turbo/src/inference_unpaired.py --model \"night_to_day\" \\\n",
        "    --input_image \"img2img-turbo/assets/examples/night2day_input.png\" --output_dir \"outputs\""
      ],
      "metadata": {
        "colab": {
          "base_uri": "https://localhost:8080/"
        },
        "id": "_J-mjqu3lJMx",
        "outputId": "36367253-dacb-4dba-d0cf-b4724fa78326"
      },
      "execution_count": null,
      "outputs": [
        {
          "output_type": "stream",
          "name": "stdout",
          "text": [
            "python3: can't open file '/content/img2img-turbo/src/inference_unpaired.py': [Errno 2] No such file or directory\n"
          ]
        }
      ]
    },
    {
      "cell_type": "code",
      "source": [
        "!gradio gradio_sketch2image.py"
      ],
      "metadata": {
        "id": "wj9sF-KblQ84"
      },
      "execution_count": null,
      "outputs": []
    }
  ]
}